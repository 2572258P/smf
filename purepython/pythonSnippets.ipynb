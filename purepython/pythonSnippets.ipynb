{
 "cells": [
  {
   "attachments": {},
   "cell_type": "markdown",
   "id": "8460942f",
   "metadata": {},
   "source": [
    "# Module usage"
   ]
  },
  {
   "cell_type": "code",
   "execution_count": null,
   "id": "dc57ffa4",
   "metadata": {},
   "outputs": [],
   "source": [
    "from module import cls\n",
    "\n",
    "def sort():\n",
    "    ls = [cls(1),cls(2),cls(3)]\n",
    "    sr = sorted(ls,key = cls.getval,reverse=True)\n",
    "\n",
    "#Type?\n",
    "def type():\n",
    "    c = cls(1)\n",
    "    print(type(c))\n",
    "    print(sr[0].val)\n",
    "\n",
    "def mvh():\n",
    "    #multi values in hash?\n",
    "    h = {}\n",
    "    h['a'] = [0,1]\n",
    "    h['b'] = [2,3]\n",
    "    print(h['a'])\n",
    "\n",
    "mvh()"
   ]
  },
  {
   "attachments": {},
   "cell_type": "markdown",
   "id": "1eb5ab03",
   "metadata": {},
   "source": [
    "# Array Intialization with inline\n",
    "### Two Parts(\"thing\" + Loop)\n",
    "\n",
    "- ex) arr = [i for i range(10)] => 0,1,2,3,4,5,6,7,8,9\n"
   ]
  },
  {
   "cell_type": "code",
   "execution_count": null,
   "id": "fa90cd3d",
   "metadata": {},
   "outputs": [],
   "source": [
    "arr = [str(i) for i in range(10)]"
   ]
  },
  {
   "cell_type": "code",
   "execution_count": null,
   "id": "3d3ff64d",
   "metadata": {},
   "outputs": [],
   "source": [
    "print(arr)"
   ]
  },
  {
   "cell_type": "markdown",
   "id": "7c109308",
   "metadata": {},
   "source": [
    "# Finding index number in array"
   ]
  },
  {
   "cell_type": "code",
   "execution_count": null,
   "id": "9d6726b4",
   "metadata": {},
   "outputs": [],
   "source": [
    "a = [i * 10 for i in range(10)]\n",
    "b = ['ab','abc','bc']"
   ]
  },
  {
   "cell_type": "code",
   "execution_count": null,
   "id": "24f079a6",
   "metadata": {},
   "outputs": [],
   "source": [
    "print(a.index(10))\n",
    "print(b.index('abc'))"
   ]
  },
  {
   "cell_type": "markdown",
   "id": "55120898",
   "metadata": {},
   "source": [
    "# Class with static"
   ]
  },
  {
   "cell_type": "code",
   "execution_count": null,
   "id": "7e1cec73",
   "metadata": {},
   "outputs": [],
   "source": [
    "class cls():\n",
    "    staticval = [] #static variable - without 'self' keyword\n",
    "    @staticmethod #static method keyword\n",
    "    def func():\n",
    "        cls.staticval.append(\"1\")\n",
    "\n",
    "a = cls()\n",
    "b = cls()\n",
    "\n",
    "\n",
    "# each class instance has the variable \"staticval\", however accessing it directly from the class can be static\n",
    "print(a.staticval) #each instance\n",
    "print(b.staticval)\n",
    "\n",
    "cls.staticval = [i for i in range(10) ] #\n",
    "print(cls.staticval) #static\n",
    "\n",
    "a.func()\n",
    "b.func()\n",
    "print(cls.staticval) #static"
   ]
  },
  {
   "attachments": {},
   "cell_type": "markdown",
   "id": "611f9d9a",
   "metadata": {},
   "source": [
    "# Regular Expression"
   ]
  },
  {
   "cell_type": "code",
   "execution_count": null,
   "id": "c697670f",
   "metadata": {},
   "outputs": [],
   "source": [
    "import re\n",
    " \n",
    "print(bool(re.match(\"^[A-Za-z0-9_-]*$\",\n",
    "                    'ValidString12-_')))\n",
    " \n",
    "print(bool(re.match(\"^[A-Za-z0-9_-]*$\",'inv{lidstring')))"
   ]
  },
  {
   "cell_type": "code",
   "execution_count": null,
   "id": "d37973f2",
   "metadata": {},
   "outputs": [],
   "source": [
    "x = {1: 2, 3: 4, 4: 3, 2: 1, 0: 0}\n",
    "r = dict(sorted(x.items(), key=lambda item: item[1],reverse=True))\n",
    "print(r)"
   ]
  },
  {
   "cell_type": "code",
   "execution_count": 5,
   "id": "cca77c79",
   "metadata": {},
   "outputs": [
    {
     "name": "stdout",
     "output_type": "stream",
     "text": [
      "100 % 123\n"
     ]
    }
   ],
   "source": [
    "print(\"100 % 123\")"
   ]
  },
  {
   "cell_type": "code",
   "execution_count": 13,
   "id": "3e1ca07e",
   "metadata": {},
   "outputs": [
    {
     "name": "stdout",
     "output_type": "stream",
     "text": [
      "False\n"
     ]
    }
   ],
   "source": [
    "\"\"\"\n",
    "class test():\n",
    "    @staticmethod\n",
    "    def init(self):\n",
    "        print(test.init)\n",
    "\n",
    "test.init()\n",
    "\"\"\"\n",
    "\n",
    "class NLP:\n",
    "    initialized = False\n",
    "    @staticmethod\n",
    "    def Init():\n",
    "        print(NLP.initialized)\n",
    "        \n",
    "        if NLP.initialized == True:\n",
    "            return\n",
    "        NLP.initialized = True\n",
    "\n",
    "NLP.Init()\n"
   ]
  },
  {
   "cell_type": "code",
   "execution_count": 5,
   "id": "9a21a98b",
   "metadata": {},
   "outputs": [
    {
     "name": "stdout",
     "output_type": "stream",
     "text": [
      "1\n"
     ]
    }
   ],
   "source": [
    "Test = {\"1 2 3\":1,\"2\":2}\n",
    "print(Test[\"1 2 3\"])"
   ]
  },
  {
   "cell_type": "code",
   "execution_count": null,
   "id": "876e9c5a",
   "metadata": {},
   "outputs": [],
   "source": []
  }
 ],
 "metadata": {
  "kernelspec": {
   "display_name": "Python 3",
   "language": "python",
   "name": "python3"
  },
  "language_info": {
   "codemirror_mode": {
    "name": "ipython",
    "version": 3
   },
   "file_extension": ".py",
   "mimetype": "text/x-python",
   "name": "python",
   "nbconvert_exporter": "python",
   "pygments_lexer": "ipython3",
   "version": "3.10.9"
  },
  "vscode": {
   "interpreter": {
    "hash": "1159cd4118a85dc213fffea16b55c20c05ed778de4d27bc74acdb038dd692a5e"
   }
  }
 },
 "nbformat": 4,
 "nbformat_minor": 5
}
