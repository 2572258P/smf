{
 "cells": [
  {
   "attachments": {},
   "cell_type": "markdown",
   "id": "8460942f",
   "metadata": {},
   "source": [
    "# Module usage"
   ]
  },
  {
   "cell_type": "code",
   "execution_count": 1,
   "id": "dc57ffa4",
   "metadata": {},
   "outputs": [
    {
     "name": "stdout",
     "output_type": "stream",
     "text": [
      "[0, 1]\n"
     ]
    }
   ],
   "source": [
    "from module import cls\n",
    "\n",
    "def sort():\n",
    "    ls = [cls(1),cls(2),cls(3)]\n",
    "    sr = sorted(ls,key = cls.getval,reverse=True)\n",
    "\n",
    "#Type?\n",
    "def type():\n",
    "    c = cls(1)\n",
    "    print(type(c))\n",
    "    print(sr[0].val)\n",
    "\n",
    "def mvh():\n",
    "    #multi values in hash?\n",
    "    h = {}\n",
    "    h['a'] = [0,1]\n",
    "    h['b'] = [2,3]\n",
    "    print(h['a'])\n",
    "\n",
    "mvh()"
   ]
  },
  {
   "attachments": {},
   "cell_type": "markdown",
   "id": "1eb5ab03",
   "metadata": {},
   "source": [
    "# Array Intialization with inline\n",
    "### Two Parts(\"thing\" + Loop)\n",
    "\n",
    "- ex) arr = [i for i range(10)] => 0,1,2,3,4,5,6,7,8,9\n"
   ]
  },
  {
   "cell_type": "code",
   "execution_count": 11,
   "id": "fa90cd3d",
   "metadata": {},
   "outputs": [],
   "source": [
    "arr = [str(i) for i in range(10)]"
   ]
  },
  {
   "cell_type": "code",
   "execution_count": 12,
   "id": "3d3ff64d",
   "metadata": {},
   "outputs": [
    {
     "name": "stdout",
     "output_type": "stream",
     "text": [
      "['0', '1', '2', '3', '4', '5', '6', '7', '8', '9']\n"
     ]
    }
   ],
   "source": [
    "print(arr)"
   ]
  },
  {
   "cell_type": "markdown",
   "id": "7c109308",
   "metadata": {},
   "source": [
    "# Finding index number in array"
   ]
  },
  {
   "cell_type": "code",
   "execution_count": 6,
   "id": "9d6726b4",
   "metadata": {},
   "outputs": [],
   "source": [
    "a = [i * 10 for i in range(10)]\n",
    "b = ['ab','abc','bc']"
   ]
  },
  {
   "cell_type": "code",
   "execution_count": 12,
   "id": "24f079a6",
   "metadata": {},
   "outputs": [
    {
     "name": "stdout",
     "output_type": "stream",
     "text": [
      "1\n",
      "1\n"
     ]
    }
   ],
   "source": [
    "print(a.index(10))\n",
    "print(b.index('abc'))"
   ]
  },
  {
   "cell_type": "markdown",
   "id": "55120898",
   "metadata": {},
   "source": [
    "# Class with static"
   ]
  },
  {
   "cell_type": "code",
   "execution_count": 15,
   "id": "7e1cec73",
   "metadata": {},
   "outputs": [
    {
     "name": "stdout",
     "output_type": "stream",
     "text": [
      "[]\n",
      "[]\n",
      "[0, 1, 2, 3, 4, 5, 6, 7, 8, 9]\n",
      "[0, 1, 2, 3, 4, 5, 6, 7, 8, 9, '1', '1']\n"
     ]
    }
   ],
   "source": [
    "class cls():\n",
    "    staticval = [] #static variable - without 'self' keyword\n",
    "    @staticmethod #static method keyword\n",
    "    def func():\n",
    "        cls.staticval.append(\"1\")\n",
    "\n",
    "a = cls()\n",
    "b = cls()\n",
    "\n",
    "\n",
    "# each class instance has the variable \"staticval\", however accessing it directly from the class can be static\n",
    "print(a.staticval) #each instance\n",
    "print(b.staticval)\n",
    "\n",
    "cls.staticval = [i for i in range(10) ] #\n",
    "print(cls.staticval) #static\n",
    "\n",
    "a.func()\n",
    "b.func()\n",
    "print(cls.staticval) #static"
   ]
  },
  {
   "cell_type": "code",
   "execution_count": null,
   "id": "6cabf3c1",
   "metadata": {},
   "outputs": [],
   "source": [
    "dic = {1:'a', 2:'b'}\n",
    "dic['3']"
   ]
  }
 ],
 "metadata": {
  "kernelspec": {
   "display_name": "Python 3",
   "language": "python",
   "name": "python3"
  },
  "language_info": {
   "codemirror_mode": {
    "name": "ipython",
    "version": 3
   },
   "file_extension": ".py",
   "mimetype": "text/x-python",
   "name": "python",
   "nbconvert_exporter": "python",
   "pygments_lexer": "ipython3",
   "version": "3.10.9"
  },
  "vscode": {
   "interpreter": {
    "hash": "1159cd4118a85dc213fffea16b55c20c05ed778de4d27bc74acdb038dd692a5e"
   }
  }
 },
 "nbformat": 4,
 "nbformat_minor": 5
}
